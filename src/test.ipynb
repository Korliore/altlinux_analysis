{
 "cells": [
  {
   "cell_type": "code",
   "execution_count": null,
   "metadata": {},
   "outputs": [],
   "source": [
    "from modules.altlinux_api import AltLinuxAPI\n",
    "import asyncio\n",
    "import pandas as pd\n",
    "from modules.analize_data import AnalayzData"
   ]
  },
  {
   "cell_type": "code",
   "execution_count": null,
   "metadata": {},
   "outputs": [],
   "source": [
    "api = AltLinuxAPI()\n",
    "branch_name_1 = \"sisyphus\"\n",
    "branch_name_2 = \"p10\"\n",
    "data = await api.export_branch_binary_packages(branch_name_1, branch_name_2)"
   ]
  },
  {
   "cell_type": "code",
   "execution_count": null,
   "metadata": {},
   "outputs": [],
   "source": [
    "analayz = AnalayzData(data[branch_name_1][\"packages\"], data[branch_name_2][\"packages\"])"
   ]
  },
  {
   "cell_type": "code",
   "execution_count": null,
   "metadata": {},
   "outputs": [],
   "source": [
    "# все пакеты, которые есть в p10 но нет в sisyphus\n",
    "analayz.get_uniq_packages(analayz.first_branch_df, analayz.second_branch_df)"
   ]
  },
  {
   "cell_type": "code",
   "execution_count": null,
   "metadata": {},
   "outputs": [],
   "source": [
    "# все пакеты, которые есть в sisyphus но нет в p10\n",
    "analayz.get_uniq_packages(analayz.second_branch_df, analayz.first_branch_df)"
   ]
  },
  {
   "cell_type": "code",
   "execution_count": null,
   "metadata": {},
   "outputs": [],
   "source": [
    "print(analayz.first_branch_df)"
   ]
  },
  {
   "cell_type": "code",
   "execution_count": null,
   "metadata": {},
   "outputs": [],
   "source": [
    "print(analayz.second_branch_df)"
   ]
  },
  {
   "cell_type": "code",
   "execution_count": 9,
   "metadata": {},
   "outputs": [
    {
     "data": {
      "text/plain": [
       "-1"
      ]
     },
     "execution_count": 9,
     "metadata": {},
     "output_type": "execute_result"
    }
   ],
   "source": [
    "from modules.other.version_compare import _compare_rpm_labels\n",
    "\n",
    "_compare_rpm_labels((\"1\", \"0.0.26\", \"alt0_8_alpha\"), (\"1\", \"0.0.26\", \"alt0_1_alpha.p10\"))"
   ]
  }
 ],
 "metadata": {
  "kernelspec": {
   "display_name": "venv",
   "language": "python",
   "name": "python3"
  },
  "language_info": {
   "codemirror_mode": {
    "name": "ipython",
    "version": 3
   },
   "file_extension": ".py",
   "mimetype": "text/x-python",
   "name": "python",
   "nbconvert_exporter": "python",
   "pygments_lexer": "ipython3",
   "version": "3.11.0"
  }
 },
 "nbformat": 4,
 "nbformat_minor": 2
}
