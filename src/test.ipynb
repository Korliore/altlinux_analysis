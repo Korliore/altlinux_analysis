{
 "cells": [
  {
   "cell_type": "code",
   "execution_count": 1,
   "metadata": {},
   "outputs": [],
   "source": [
    "from modules.altlinux_api import AltLinuxAPI\n",
    "import asyncio\n",
    "import pandas as pd\n",
    "from modules.analize_data import AnalayzData"
   ]
  },
  {
   "cell_type": "code",
   "execution_count": 2,
   "metadata": {},
   "outputs": [],
   "source": [
    "api = AltLinuxAPI()\n",
    "branch_name_1 = \"sisyphus\"\n",
    "branch_name_2 = \"p10\"\n",
    "data = await api.export_branch_binary_packages(branch_name_1, branch_name_2)"
   ]
  },
  {
   "cell_type": "code",
   "execution_count": 3,
   "metadata": {},
   "outputs": [],
   "source": [
    "analayz = AnalayzData(data[branch_name_1][\"packages\"], data[branch_name_2][\"packages\"])"
   ]
  }
 ],
 "metadata": {
  "kernelspec": {
   "display_name": "venv",
   "language": "python",
   "name": "python3"
  },
  "language_info": {
   "codemirror_mode": {
    "name": "ipython",
    "version": 3
   },
   "file_extension": ".py",
   "mimetype": "text/x-python",
   "name": "python",
   "nbconvert_exporter": "python",
   "pygments_lexer": "ipython3",
   "version": "3.11.0"
  }
 },
 "nbformat": 4,
 "nbformat_minor": 2
}
